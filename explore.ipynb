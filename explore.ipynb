{
 "cells": [
  {
   "cell_type": "code",
   "execution_count": 1,
   "metadata": {},
   "outputs": [],
   "source": [
    "import requests\n",
    "SESSION = requests.Session()"
   ]
  },
  {
   "cell_type": "code",
   "execution_count": 2,
   "metadata": {},
   "outputs": [],
   "source": [
    "url = \"ftp://pi.super-computing.org/\"\n",
    "url = \"https://assets.angio.net/pi1000000.txt\"\n",
    "\n",
    "response = SESSION.get(url)\n"
   ]
  },
  {
   "cell_type": "code",
   "execution_count": 3,
   "metadata": {},
   "outputs": [
    {
     "data": {
      "text/plain": [
       "1000003"
      ]
     },
     "execution_count": 3,
     "metadata": {},
     "output_type": "execute_result"
    }
   ],
   "source": [
    "pidigits = response.text\n",
    "len(pidigits)"
   ]
  },
  {
   "cell_type": "code",
   "execution_count": 4,
   "metadata": {},
   "outputs": [],
   "source": [
    "pidecimal = pidigits[2:]\n",
    "# Remove non digits\n",
    "pidecimal = ''.join([c for c in pidecimal if c.isdigit()])\n",
    "pidigits = '3.' + pidecimal"
   ]
  },
  {
   "cell_type": "code",
   "execution_count": 5,
   "metadata": {},
   "outputs": [
    {
     "data": {
      "text/plain": [
       "('14523', 25633)"
      ]
     },
     "execution_count": 5,
     "metadata": {},
     "output_type": "execute_result"
    }
   ],
   "source": [
    "n = 0\n",
    "n_str = str(n)\n",
    "digit_count = 1\n",
    "n_count = 0\n",
    "while n_str in pidecimal:\n",
    "    n_count += 1\n",
    "    n += 1\n",
    "    if n >= 10**digit_count:\n",
    "        digit_count += 1\n",
    "        n = 0\n",
    "    n_str = str(n).zfill(digit_count)\n",
    "n_max = n_str\n",
    "n_max, n_count"
   ]
  },
  {
   "cell_type": "code",
   "execution_count": 6,
   "metadata": {},
   "outputs": [
    {
     "name": "stderr",
     "output_type": "stream",
     "text": [
      " 23%|██▎       | 25991/111111.0 [00:31<01:49, 777.08it/s]"
     ]
    }
   ],
   "source": [
    "from tqdm import tqdm\n",
    "\n",
    "num_count = {}\n",
    "with tqdm(total=(10**(len(n_max)+1) - 1)/9) as pbar:\n",
    "    n = 0\n",
    "    n_str = str(n)\n",
    "    digit_count = 1\n",
    "    n_count = 0\n",
    "    while digit_count <= len(n_max):\n",
    "        n_count += 1\n",
    "        num_count[n_str] = pidecimal.count(n_str)\n",
    "        n += 1\n",
    "        if n >= 10**digit_count:\n",
    "            digit_count += 1\n",
    "            n = 0\n",
    "        n_str = str(n).zfill(digit_count)\n",
    "        pbar.update(1)"
   ]
  },
  {
   "cell_type": "code",
   "execution_count": null,
   "metadata": {},
   "outputs": [],
   "source": [
    "import pandas as pd\n",
    "num_count_sf = pd.Series(num_count)"
   ]
  },
  {
   "cell_type": "code",
   "execution_count": null,
   "metadata": {},
   "outputs": [],
   "source": [
    "num_count_df = num_count_sf.to_frame().reset_index().rename(columns={\"index\": \"digit\", 0: \"count\"})"
   ]
  },
  {
   "cell_type": "code",
   "execution_count": null,
   "metadata": {},
   "outputs": [],
   "source": [
    "num_count_df[num_count_df['digit'].apply(lambda x: len(x) == 5)].sort_values('count', ascending=False)"
   ]
  },
  {
   "cell_type": "code",
   "execution_count": null,
   "metadata": {},
   "outputs": [],
   "source": [
    "# Draw a color based on RGB value\n",
    "import matplotlib.pyplot as plt\n",
    "import matplotlib.colors as mcolors\n",
    "import numpy as np\n",
    "\n",
    "colors = []\n",
    "l = len(pidecimal)\n",
    "for i in range(0, l, 6):\n",
    "    # print(pidecimal[i:i+6])\n",
    "    color = mcolors.to_rgba(\"#\" + pidecimal[i:i+6], alpha=0.5)\n",
    "    colors.append(color)"
   ]
  },
  {
   "cell_type": "code",
   "execution_count": null,
   "metadata": {},
   "outputs": [],
   "source": [
    "# Draw 10000 colors on a grid\n",
    "fig, ax = plt.subplots()\n",
    "for i, color in enumerate(colors):\n",
    "    ax.add_patch(plt.Rectangle((i%100, i//100), 1, 1, color=color))"
   ]
  }
 ],
 "metadata": {
  "kernelspec": {
   "display_name": "Python 3",
   "language": "python",
   "name": "python3"
  },
  "language_info": {
   "codemirror_mode": {
    "name": "ipython",
    "version": 3
   },
   "file_extension": ".py",
   "mimetype": "text/x-python",
   "name": "python",
   "nbconvert_exporter": "python",
   "pygments_lexer": "ipython3",
   "version": "3.12.3"
  }
 },
 "nbformat": 4,
 "nbformat_minor": 2
}
